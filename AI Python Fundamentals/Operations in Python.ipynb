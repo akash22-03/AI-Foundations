{
 "cells": [
  {
   "cell_type": "markdown",
   "metadata": {},
   "source": [
    "### Arithmetic Operations"
   ]
  },
  {
   "cell_type": "code",
   "execution_count": 2,
   "metadata": {},
   "outputs": [],
   "source": [
    "\n",
    "x = 10\n",
    "y = 3"
   ]
  },
  {
   "cell_type": "code",
   "execution_count": 3,
   "metadata": {},
   "outputs": [
    {
     "name": "stdout",
     "output_type": "stream",
     "text": [
      "The result of addition operation is  13\n"
     ]
    }
   ],
   "source": [
    "print(\"The result of addition operation is \",x+y)"
   ]
  },
  {
   "cell_type": "code",
   "execution_count": 4,
   "metadata": {},
   "outputs": [
    {
     "name": "stdout",
     "output_type": "stream",
     "text": [
      "The result of subtraction operation is  7\n"
     ]
    }
   ],
   "source": [
    "print(\"The result of subtraction operation is \",x-y)"
   ]
  },
  {
   "cell_type": "code",
   "execution_count": 5,
   "metadata": {},
   "outputs": [
    {
     "name": "stdout",
     "output_type": "stream",
     "text": [
      "The result of multiplication operation is  30\n"
     ]
    }
   ],
   "source": [
    "print(\"The result of multiplication operation is \",x*y)"
   ]
  },
  {
   "cell_type": "code",
   "execution_count": 6,
   "metadata": {},
   "outputs": [
    {
     "name": "stdout",
     "output_type": "stream",
     "text": [
      "The result of division operation is  3.3333333333333335\n"
     ]
    }
   ],
   "source": [
    "print(\"The result of division operation is \",x/y)"
   ]
  },
  {
   "cell_type": "code",
   "execution_count": 7,
   "metadata": {},
   "outputs": [
    {
     "name": "stdout",
     "output_type": "stream",
     "text": [
      "The result of Floor division operation is  3\n"
     ]
    }
   ],
   "source": [
    "print(\"The result of Floor division operation is \",x//y)"
   ]
  },
  {
   "cell_type": "code",
   "execution_count": 8,
   "metadata": {},
   "outputs": [
    {
     "name": "stdout",
     "output_type": "stream",
     "text": [
      "The result of exponentiation operation is  1000\n"
     ]
    }
   ],
   "source": [
    "print(\"The result of exponentiation operation is \",x**y)"
   ]
  },
  {
   "cell_type": "markdown",
   "metadata": {},
   "source": [
    "### Comparison Operations"
   ]
  },
  {
   "cell_type": "code",
   "execution_count": 9,
   "metadata": {},
   "outputs": [
    {
     "name": "stdout",
     "output_type": "stream",
     "text": [
      "The output of the comparison 4>3 is  True\n",
      "The output of the comparison 3>4 is  False\n"
     ]
    }
   ],
   "source": [
    "print(\"The output of the comparison 4>3 is \",4>3)\n",
    "print(\"The output of the comparison 3>4 is \",3>4)"
   ]
  },
  {
   "cell_type": "code",
   "execution_count": 10,
   "metadata": {},
   "outputs": [
    {
     "name": "stdout",
     "output_type": "stream",
     "text": [
      "The output of the comparison 4<3 is  False\n",
      "The output of the comparison 3<4 is  True\n"
     ]
    }
   ],
   "source": [
    "print(\"The output of the comparison 4<3 is \",4<3)\n",
    "print(\"The output of the comparison 3<4 is \",3<4)"
   ]
  },
  {
   "cell_type": "code",
   "execution_count": 11,
   "metadata": {},
   "outputs": [
    {
     "name": "stdout",
     "output_type": "stream",
     "text": [
      "The output of the comparison 3 == 3 is  True\n",
      "The output of the comparison 3 == 4 is  False\n"
     ]
    }
   ],
   "source": [
    "print(\"The output of the comparison 3 == 3 is \",3 == 3)\n",
    "print(\"The output of the comparison 3 == 4 is \",3 == 4)"
   ]
  },
  {
   "cell_type": "code",
   "execution_count": 12,
   "metadata": {},
   "outputs": [
    {
     "name": "stdout",
     "output_type": "stream",
     "text": [
      "The output of the comparison 3 >= 3 is  True\n",
      "The output of the comparison 3 >= 2 is  True\n",
      "The output of the comparison 3 >= 5 is  False\n"
     ]
    }
   ],
   "source": [
    "print(\"The output of the comparison 3 >= 3 is \",3 >= 3)\n",
    "print(\"The output of the comparison 3 >= 2 is \",3 >= 2)\n",
    "print(\"The output of the comparison 3 >= 5 is \",3 >= 5)\n"
   ]
  },
  {
   "cell_type": "code",
   "execution_count": 13,
   "metadata": {},
   "outputs": [
    {
     "name": "stdout",
     "output_type": "stream",
     "text": [
      "The output of the comparison 3 <= 3 is  True\n",
      "The output of the comparison 3 <= 5 is  True\n",
      "The output of the comparison 3 <= 2 is  False\n"
     ]
    }
   ],
   "source": [
    "print(\"The output of the comparison 3 <= 3 is \",3 <= 3)\n",
    "print(\"The output of the comparison 3 <= 5 is \",3 <= 5 )\n",
    "print(\"The output of the comparison 3 <= 2 is \",3 <= 2)\n"
   ]
  },
  {
   "cell_type": "code",
   "execution_count": 14,
   "metadata": {},
   "outputs": [
    {
     "name": "stdout",
     "output_type": "stream",
     "text": [
      "The output of the comparison 3 != 4 is  True\n",
      "The output of the comparison 3 != 3 is  False\n"
     ]
    }
   ],
   "source": [
    "print(\"The output of the comparison 3 != 4 is \",3 != 4)\n",
    "print(\"The output of the comparison 3 != 3 is \",3 != 3)\n"
   ]
  },
  {
   "cell_type": "markdown",
   "metadata": {},
   "source": [
    "### Logical Operators"
   ]
  },
  {
   "cell_type": "code",
   "execution_count": 15,
   "metadata": {},
   "outputs": [
    {
     "name": "stdout",
     "output_type": "stream",
     "text": [
      "The output of the 3>2 and 4>1 is  True\n",
      "The output of the 3<2 and 4>1 is  False\n",
      "The output of the 3>2 and 4<1 is  False\n"
     ]
    }
   ],
   "source": [
    "#both true\n",
    "print(\"The output of the 3>2 and 4>1 is \",3>2 and 4>1)\n",
    "\n",
    "#First false, Second true\n",
    "print(\"The output of the 3<2 and 4>1 is \",3<2 and 4>1)\n",
    "\n",
    "#Second false, First true\n",
    "print(\"The output of the 3>2 and 4<1 is \",3>2 and 4<1)\n"
   ]
  },
  {
   "cell_type": "code",
   "execution_count": 16,
   "metadata": {},
   "outputs": [
    {
     "name": "stdout",
     "output_type": "stream",
     "text": [
      "The output of the 3>2 or 4>1 is  True\n",
      "The output of the 3<2 or 4>1 is  True\n",
      "The output of the 3>2 or 4<1 is  True\n",
      "The output of the 3<2 or 4<1 is  False\n"
     ]
    }
   ],
   "source": [
    "#both true\n",
    "print(\"The output of the 3>2 or 4>1 is \",3>2 or 4>1)\n",
    "\n",
    "#First false, Second true\n",
    "print(\"The output of the 3<2 or 4>1 is \",3<2 or 4>1)\n",
    "\n",
    "#Second false, First true\n",
    "print(\"The output of the 3>2 or 4<1 is \",3>2 or 4<1)\n",
    "\n",
    "#Both false\n",
    "print(\"The output of the 3<2 or 4<1 is \",3<2 or 4<1)\n",
    "\n"
   ]
  },
  {
   "cell_type": "code",
   "execution_count": 17,
   "metadata": {},
   "outputs": [
    {
     "name": "stdout",
     "output_type": "stream",
     "text": [
      "The output of the not(True)  False\n",
      "The output of the not(False)  True\n"
     ]
    }
   ],
   "source": [
    "print(\"The output of the not(True) \",not(True))\n",
    "print(\"The output of the not(False) \",not(False))\n",
    "\n"
   ]
  },
  {
   "cell_type": "code",
   "execution_count": 18,
   "metadata": {},
   "outputs": [
    {
     "name": "stdout",
     "output_type": "stream",
     "text": [
      "Input a number56\n",
      "The output of the not(userInput>5)  False\n"
     ]
    }
   ],
   "source": [
    "userInput = int(input(\"Input a number\"))\n",
    "\n",
    "print(\"The output of the not(userInput>5) \",not(userInput>5))\n"
   ]
  }
 ],
 "metadata": {
  "kernelspec": {
   "display_name": "Python 3",
   "language": "python",
   "name": "python3"
  },
  "language_info": {
   "codemirror_mode": {
    "name": "ipython",
    "version": 3
   },
   "file_extension": ".py",
   "mimetype": "text/x-python",
   "name": "python",
   "nbconvert_exporter": "python",
   "pygments_lexer": "ipython3",
   "version": "3.8.8"
  }
 },
 "nbformat": 4,
 "nbformat_minor": 4
}
