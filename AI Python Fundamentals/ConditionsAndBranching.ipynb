{
 "cells": [
  {
   "cell_type": "markdown",
   "metadata": {},
   "source": [
    "### Conditions and branching"
   ]
  },
  {
   "cell_type": "code",
   "execution_count": 2,
   "metadata": {},
   "outputs": [
    {
     "name": "stdout",
     "output_type": "stream",
     "text": [
      "Enter a string AKASH\n",
      "The string you input is  AKASH\n"
     ]
    }
   ],
   "source": [
    "userInput = input(\"Enter a string \")\n",
    "\n",
    "if(len(userInput) > 5):\n",
    "    print(\"The String is too long\")\n",
    "    \n",
    "print(\"The string you input is \",userInput)"
   ]
  },
  {
   "cell_type": "code",
   "execution_count": 3,
   "metadata": {},
   "outputs": [
    {
     "name": "stdout",
     "output_type": "stream",
     "text": [
      "Enter a string Akash dash\n",
      "The string is too long\n"
     ]
    }
   ],
   "source": [
    "userInput = input(\"Enter a string \")\n",
    "\n",
    "if(len(userInput) > 5):\n",
    "    print(\"The string is too long\")\n",
    "else:\n",
    "    print(\"The string is just right size\")\n",
    "    \n"
   ]
  },
  {
   "cell_type": "code",
   "execution_count": 4,
   "metadata": {},
   "outputs": [
    {
     "name": "stdout",
     "output_type": "stream",
     "text": [
      "Enter a string new\n",
      "The string is too short\n"
     ]
    }
   ],
   "source": [
    "userInput = input(\"Enter a string \")\n",
    "\n",
    "if(len(userInput) > 10):\n",
    "    print(\"The string is too long\")\n",
    "elif (len(userInput) < 5):\n",
    "    print(\"The string is too short\")\n",
    "else:\n",
    "    print(\"The string you input is just as expected\")\n",
    "    \n"
   ]
  },
  {
   "cell_type": "code",
   "execution_count": 1,
   "metadata": {},
   "outputs": [
    {
     "name": "stdout",
     "output_type": "stream",
     "text": [
      "Enter your age as a number 20\n",
      "Welcome to the show\n"
     ]
    }
   ],
   "source": [
    "age = int(input(\"Enter your age as a number \"))\n",
    "\n",
    "if (age < 18):\n",
    "    print(\"Children not allowed\")\n",
    "elif (age > 30):\n",
    "    print(\"This show might be too boring for you\")\n",
    "else:\n",
    "    print(\"Welcome to the show\")\n"
   ]
  },
  {
   "cell_type": "code",
   "execution_count": null,
   "metadata": {},
   "outputs": [],
   "source": []
  }
 ],
 "metadata": {
  "kernelspec": {
   "display_name": "Python 3",
   "language": "python",
   "name": "python3"
  },
  "language_info": {
   "codemirror_mode": {
    "name": "ipython",
    "version": 3
   },
   "file_extension": ".py",
   "mimetype": "text/x-python",
   "name": "python",
   "nbconvert_exporter": "python",
   "pygments_lexer": "ipython3",
   "version": "3.8.8"
  }
 },
 "nbformat": 4,
 "nbformat_minor": 4
}
